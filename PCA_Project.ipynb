{
  "nbformat": 4,
  "nbformat_minor": 0,
  "metadata": {
    "colab": {
      "provenance": [],
      "authorship_tag": "ABX9TyPuiHJUCn5l3vxChfT/ivag",
      "include_colab_link": true
    },
    "kernelspec": {
      "name": "python3",
      "display_name": "Python 3"
    },
    "language_info": {
      "name": "python"
    }
  },
  "cells": [
    {
      "cell_type": "markdown",
      "metadata": {
        "id": "view-in-github",
        "colab_type": "text"
      },
      "source": [
        "<a href=\"https://colab.research.google.com/github/frm1789/Portfolio/blob/main/PCA_Project.ipynb\" target=\"_parent\"><img src=\"https://colab.research.google.com/assets/colab-badge.svg\" alt=\"Open In Colab\"/></a>"
      ]
    },
    {
      "cell_type": "markdown",
      "source": [
        "# PCA Application"
      ],
      "metadata": {
        "id": "ibApCPN8XXEr"
      }
    },
    {
      "cell_type": "markdown",
      "source": [
        "\n",
        "* Grasp the fundamental linear algebra techniques which are used to compute PCA.\n",
        "* Utilize NumPy to transition your newly gained mathematical knowledge into code.\n",
        "* Apply scikit-learn’s PCA and learn about its nuances while using it.\n",
        "* Understand the benefits of dimensionality reduction and the trade-off between speed and accuracy.\n"
      ],
      "metadata": {
        "id": "1Rb0nuDIXaEB"
      }
    },
    {
      "cell_type": "markdown",
      "source": [
        "# Project outline"
      ],
      "metadata": {
        "id": "qj2tpJreXuhN"
      }
    },
    {
      "cell_type": "markdown",
      "source": [
        "This project is divided into 3 milestones.\n",
        "\n",
        "1. Computing eigenvalues and eigenvectors\n",
        "Estimated duration: 1-2 hours\n",
        "\n",
        "2. Implementation of PCA and Logistic Regression\n",
        "Estimated duration: 1.5 -2 hours\n",
        "\n",
        "3. Plot, analyze, and compare results\n",
        "Estimated duration: 3.5-4 hours"
      ],
      "metadata": {
        "id": "BLCx_oIlXwhN"
      }
    },
    {
      "cell_type": "markdown",
      "source": [
        "# Part I: Milestone"
      ],
      "metadata": {
        "id": "iXXq7Kz2WWGe"
      }
    },
    {
      "cell_type": "markdown",
      "source": [
        "This `Jupyter Notebook` is the starter notebook for the second milestone of the project <b>Principal Component Analysis</b>. It consists of the following tasks:\n",
        "\n",
        "- Implementation of the covariance matrix and eigendecomposition in the custom PCA class.\n",
        "- Prepare data for training: train/test-split and normalization of the dataset.\n",
        "- Implement logistic regression with [sklearn](https://scikit-learn.org/stable/modules/generated/sklearn.linear_model.LogisticRegression.html?highlight=logistic%20regression#sklearn.linear_model.LogisticRegression) and validate its accuracy."
      ],
      "metadata": {
        "id": "0E32JgLtWXbM"
      }
    },
    {
      "cell_type": "code",
      "execution_count": 1,
      "metadata": {
        "id": "ktqYDr4WTjhm"
      },
      "outputs": [],
      "source": [
        "# standard imports\n",
        "import numpy as np\n",
        "\n",
        "\n",
        "# sklearn\n",
        "import sklearn\n",
        "from sklearn.decomposition import PCA\n",
        "from sklearn.datasets import fetch_openml\n",
        "from sklearn.model_selection import train_test_split\n",
        "from sklearn.linear_model import LogisticRegression\n",
        "from sklearn.metrics import accuracy_score\n",
        "\n",
        "\n",
        "# other useful imports\n",
        "from importlib import reload\n",
        "from time import time\n",
        "\n",
        "\n",
        "# imports for plotting\n",
        "import matplotlib.pyplot as plt\n",
        "\n",
        "\n",
        "#ignore warnings\n",
        "import warnings\n",
        "warnings.filterwarnings(action='ignore')"
      ]
    },
    {
      "cell_type": "code",
      "source": [
        "# change data_home path where you wnat to store the data\n",
        "# important: as_frame needs to be set as False otherwise we would get a data frame\n",
        "# and would have to convert the dataset to numpy arrays later on\n",
        "mnist = fetch_openml('mnist_784', data_home='data/', as_frame=False)"
      ],
      "metadata": {
        "id": "u_8TdHh9azzn"
      },
      "execution_count": 2,
      "outputs": []
    },
    {
      "cell_type": "code",
      "source": [
        "# the dataset is split into the images and the labels\n",
        "# we expect values between 0 and 255 for images\n",
        "print('Images shape: ', mnist.data.shape)\n",
        "print('Images range: ', mnist.data.min(), ' - ', mnist.data.max(), 'pixel')\n",
        "print('Labels shape: ', mnist.target.shape)"
      ],
      "metadata": {
        "colab": {
          "base_uri": "https://localhost:8080/"
        },
        "id": "NY_JyunZbQCj",
        "outputId": "0b3ccde7-8412-4eb6-a858-de55caf4188e"
      },
      "execution_count": 3,
      "outputs": [
        {
          "output_type": "stream",
          "name": "stdout",
          "text": [
            "Images shape:  (70000, 784)\n",
            "Images range:  0.0  -  255.0 pixel\n",
            "Labels shape:  (70000,)\n"
          ]
        }
      ]
    },
    {
      "cell_type": "code",
      "source": [
        "x_train, x_test, y_train, y_test = train_test_split(\n",
        "    mnist.data, mnist.target, test_size=1/7.0, random_state=0)"
      ],
      "metadata": {
        "id": "lY1b0KRabYGF"
      },
      "execution_count": 4,
      "outputs": []
    },
    {
      "cell_type": "code",
      "source": [
        "\n",
        "# check the split\n",
        "print('x_train: ' + str(x_train.shape))\n",
        "print('y_train: ' + str(y_train.shape))\n",
        "print('x_test:  '  + str(x_test.shape))\n",
        "print('y_test:  '  + str(y_test.shape))"
      ],
      "metadata": {
        "colab": {
          "base_uri": "https://localhost:8080/"
        },
        "id": "Q8VEvT6mbdnC",
        "outputId": "07b82692-6948-4bd0-f6c1-35c9f7f6e0e7"
      },
      "execution_count": 5,
      "outputs": [
        {
          "output_type": "stream",
          "name": "stdout",
          "text": [
            "x_train: (60000, 784)\n",
            "y_train: (60000,)\n",
            "x_test:  (10000, 784)\n",
            "y_test:  (10000,)\n"
          ]
        }
      ]
    },
    {
      "cell_type": "markdown",
      "source": [
        " from\n",
        " https://stackoverflow.com/questions/42353676/display-mnist-image-using-matplotlib"
      ],
      "metadata": {
        "id": "zWqHLJDlcpcG"
      }
    },
    {
      "cell_type": "code",
      "source": [
        "def gen_image(arr):\n",
        "    two_d = (np.reshape(arr, (28, 28)) * 255).astype(np.uint8)\n",
        "    plt.imshow(two_d, interpolation='nearest')\n",
        "    return plt\n",
        "\n",
        "# Get a batch of two random images and show in a pop-up window.\n",
        "gen_image(x_train[0]).show()\n"
      ],
      "metadata": {
        "colab": {
          "base_uri": "https://localhost:8080/",
          "height": 430
        },
        "id": "Oji0b6MiboBh",
        "outputId": "3330da39-c532-49e0-d5b2-0e350103e487"
      },
      "execution_count": 6,
      "outputs": [
        {
          "output_type": "display_data",
          "data": {
            "text/plain": [
              "<Figure size 640x480 with 1 Axes>"
            ],
            "image/png": "[encoded data removed]"
          },
          "metadata": {}
        }
      ]
    },
    {
      "cell_type": "code",
      "source": [
        "print(x_train[0])"
      ],
      "metadata": {
        "colab": {
          "base_uri": "https://localhost:8080/"
        },
        "id": "qyGMmHhNc-DA",
        "outputId": "d8cf4233-60cc-420c-b08f-f53c78a32be3"
      },
      "execution_count": 7,
      "outputs": [
        {
          "output_type": "stream",
          "name": "stdout",
          "text": [
            "[  0.   0.   0.   0.   0.   0.   0.   0.   0.   0.   0.   0.   0.   0.\n",
            "   0.   0.   0.   0.   0.   0.   0.   0.   0.   0.   0.   0.   0.   0.\n",
            "   0.   0.   0.   0.   0.   0.   0.   0.   0.   0.   0.   0.   0.   0.\n",
            "   0.   0.   0.   0.   0.   0.   0.   0.   0.   0.   0.   0.   0.   0.\n",
            "   0.   0.   0.   0.   0.   0.   0.   0.   0.   0.   0.   0.   0.   0.\n",
            "   0.   0.   0.   0.   0.   0.   0.   0.   0.   0.   0.   0.   0.   0.\n",
            "   0.   0.   0.   0.   0.   0.   0.   0.   0.   0.   0.   0.   0.   0.\n",
            "   0.   0.   0.   0.   0.   0.   0.   0.   0.   0.   0.   0.   0.   0.\n",
            "   0.   0.   0.   0.   0.   0.   0.   0.   0.   0.   0.   0.   0.   0.\n",
            "   0.   0.   0.   0.   0.   0.   0.   0.   0.   0.   0.   0.   0.   0.\n",
            "   0.   0.   0.   0.   0.   0.   0.   0.   0.   0.   0.   0.   0.   0.\n",
            "   0.   0.   0.   0.   0.   0.   0.   0.   0.   0.   0.   0.   0.   0.\n",
            "   0.   0.   0.   0.   0.   0.  40. 195. 126.   6.   0.   0.   0.   0.\n",
            "   0.   0.   0.   0.   0.   0.   0.   0.   0.   0.   0.   0.   0.   0.\n",
            "   0.   0.   0.   0.   0.  52. 222. 254. 254. 203.  77.   5.   0.   0.\n",
            "   0.   0.   0.   0.   0.   0.   0.   0.   0.   0.   0.   0.   0.   0.\n",
            "   0.   0.   0.   0.   0. 111. 254. 254. 254. 254. 254. 205.  65.   0.\n",
            "   0.   0.   0.   0.   0.   0.   0.   0.   0.   0.   0.   0.   0.   0.\n",
            "   0.   0.   0.   0.   0. 111. 254. 247.  86. 127. 222. 254. 242. 201.\n",
            "  79.  21.  66. 159.  62.   0.   0.   0.   0.   0.   0.   0.   0.   0.\n",
            "   0.   0.   0.   0.   0.  39. 228. 254. 254.  94.  58. 186. 254. 254.\n",
            " 254. 254. 254. 254. 129.   0.   0.   0.   0.   0.   0.   0.   0.   0.\n",
            "   0.   0.   0.   0.   0.   0.  16. 104.  94.  22.   0.   4.  25. 142.\n",
            " 224. 231. 254. 254. 129.   0.   0.   0.   0.   0.   0.   0.   0.   0.\n",
            "   0.   0.   0.   0.   0.   0.   0.   0.   0.   0.   0.   0.   0.   0.\n",
            "   0.  17. 226. 254. 129.   0.   0.   0.   0.   0.   0.   0.   0.   0.\n",
            "   0.   0.   0.   0.   0.   0.   0.   0.   0.   0.   0.   0.   0.   0.\n",
            "   0.  48. 246. 254. 129.   0.   0.   0.   0.   0.   0.   0.   0.   0.\n",
            "   0.   0.   0.   0.   0.   0.   0.   0.   0.   0.   0.   0.   0.   0.\n",
            "   0.  47. 245. 254. 129.   0.   0.   0.   0.   0.   0.   0.   0.   0.\n",
            "   0.   0.   0.   0.   0.   0.   0.   0.   0.   0.   0.   0. 116.  92.\n",
            "  90.  99. 254. 254. 154.  15.   0.   0.   0.   0.   0.   0.   0.   0.\n",
            "   0.   0.   0.   0.   0.   0.   0.   0.   0.   0.   0.  16. 215. 254.\n",
            " 254. 254. 254. 254. 254. 220. 205. 166.   4.   0.   0.   0.   0.   0.\n",
            "   0.   0.   0.   0.   0.   0.   0.   0.   0.   0.   0.   0.   0. 113.\n",
            " 195. 254. 254. 254. 254. 254. 209.  24.   0.   0.   0.   0.   0.   0.\n",
            "   0.   0.   0.   0.   0.   0.   0.   0.   0.   0.   0.   0.   0.   0.\n",
            "   1. 175. 254. 254. 104.  40.  19.   0.   0.   0.   0.   0.   0.   0.\n",
            "   0.   0.   0.   0.   0.   0.   0.   0.   0.   0.   0.   0.   0.   0.\n",
            "   0. 132. 254. 254.  30.   0.   0.   0.   0.   0.   0.   0.   0.   0.\n",
            "   0.   0.   0.   0.   0.   0.   0.   0.   0.   0.   0.   0.   0.   0.\n",
            "   0. 100. 254. 254.  30.   0.   0.   0.   0.   0.   0.   0.   0.   0.\n",
            "   0.   0.   0.   0.   0.   0.   0.   0.   0.   0.   0.   0.   0.   0.\n",
            "   0.  61. 254. 254.  30.   0.   0.   0.   0.   0.   0.   0.   0.   0.\n",
            "   0.   0.   0.   0.   0.   0.   0.   0.   0.   0.   0.   0.   0.   0.\n",
            "   0.  61. 254. 254.  30.   0.   0.   0.   0.   0.   0.   0.   0.   0.\n",
            "   0.   0.   0.   0.   0.   0.   0.   0.   0.   0.   0.   0.   0.   0.\n",
            "   0.  61. 254. 254.  30.   0.   0.   0.   0.   0.   0.   0.   0.   0.\n",
            "   0.   0.   0.   0.   0.   0.   0.   0.   0.   0.   0.   0.   0.   0.\n",
            "   0.  26. 232. 254.  30.   0.   0.   0.   0.   0.   0.   0.   0.   0.\n",
            "   0.   0.   0.   0.   0.   0.   0.   0.   0.   0.   0.   0.   0.   0.\n",
            "   0.   0. 176. 160.   7.   0.   0.   0.   0.   0.   0.   0.   0.   0.\n",
            "   0.   0.   0.   0.   0.   0.   0.   0.   0.   0.   0.   0.   0.   0.\n",
            "   0.   0.   0.   0.   0.   0.   0.   0.   0.   0.   0.   0.   0.   0.\n",
            "   0.   0.   0.   0.   0.   0.   0.   0.   0.   0.   0.   0.   0.   0.\n",
            "   0.   0.   0.   0.   0.   0.   0.   0.   0.   0.   0.   0.   0.   0.]\n"
          ]
        }
      ]
    },
    {
      "cell_type": "markdown",
      "source": [
        "#### Normalize the data \n",
        "By dividing by 255"
      ],
      "metadata": {
        "id": "0YDTVrANdHnS"
      }
    },
    {
      "cell_type": "markdown",
      "source": [
        "### How to NOT normalize a dataset?"
      ],
      "metadata": {
        "id": "-gl8YEuCjabg"
      }
    },
    {
      "cell_type": "code",
      "source": [
        "x_train  = np.array(x_train)/255\n",
        "x_test = np.array(x_test)/255"
      ],
      "metadata": {
        "id": "6qR_DoMMdLSn"
      },
      "execution_count": 8,
      "outputs": []
    },
    {
      "cell_type": "code",
      "source": [
        "print(x_train[:,10])"
      ],
      "metadata": {
        "colab": {
          "base_uri": "https://localhost:8080/"
        },
        "id": "G5X8DMvwjhE5",
        "outputId": "61e2d31a-7f49-4217-840a-b98c1c5a6f7b"
      },
      "execution_count": 9,
      "outputs": [
        {
          "output_type": "stream",
          "name": "stdout",
          "text": [
            "[0. 0. 0. ... 0. 0. 0.]\n"
          ]
        }
      ]
    },
    {
      "cell_type": "code",
      "source": [
        "x_train = (x_train - x_train.min())/(x_train.max() - x_train.min()) \n",
        "x_test = (x_test - x_train.min())/(x_train.max() - x_train.min())  "
      ],
      "metadata": {
        "id": "t5JS_A1zjeBE"
      },
      "execution_count": 10,
      "outputs": []
    },
    {
      "cell_type": "code",
      "source": [
        "print(x_train[:,10])"
      ],
      "metadata": {
        "colab": {
          "base_uri": "https://localhost:8080/"
        },
        "id": "gvASYBzTjkIp",
        "outputId": "0e279c96-1631-43ac-fbbc-ed5c54f1f81a"
      },
      "execution_count": 11,
      "outputs": [
        {
          "output_type": "stream",
          "name": "stdout",
          "text": [
            "[0. 0. 0. ... 0. 0. 0.]\n"
          ]
        }
      ]
    },
    {
      "cell_type": "markdown",
      "source": [
        "# Implement LG \n",
        "\n",
        "From scikit learn to classify images without any modification via PCA and evaluation accuracy."
      ],
      "metadata": {
        "id": "ppBLsB1_dh35"
      }
    },
    {
      "cell_type": "code",
      "source": [
        "start = time()\n",
        "\n",
        "lreg = LogisticRegression(solver='lbfgs')\n",
        "lreg.fit(x_train, y_train)\n",
        "pred_train = lreg.predict(x_train)\n",
        "pred_test = lreg.predict(x_test)\n"
      ],
      "metadata": {
        "id": "-d_776_cdhdF"
      },
      "execution_count": 12,
      "outputs": []
    },
    {
      "cell_type": "code",
      "source": [
        "accuracy = accuracy_score(y_train, pred_train)\n",
        "print(\"Accuracy on test set: \", accuracy)"
      ],
      "metadata": {
        "colab": {
          "base_uri": "https://localhost:8080/"
        },
        "id": "QhoNrJUWkeuh",
        "outputId": "d52656f8-fa25-4138-cf71-c2b040f6e698"
      },
      "execution_count": 13,
      "outputs": [
        {
          "output_type": "stream",
          "name": "stdout",
          "text": [
            "Accuracy on test set:  0.9363166666666667\n"
          ]
        }
      ]
    },
    {
      "cell_type": "code",
      "source": [
        "accuracy = accuracy_score(y_test, pred_test)\n",
        "print(\"Accuracy on test set: \", accuracy)"
      ],
      "metadata": {
        "colab": {
          "base_uri": "https://localhost:8080/"
        },
        "id": "QoBJGgHUkMX4",
        "outputId": "84237a81-d8d3-4f24-ca41-ae7b0eb4ca25"
      },
      "execution_count": 14,
      "outputs": [
        {
          "output_type": "stream",
          "name": "stdout",
          "text": [
            "Accuracy on test set:  0.9196\n"
          ]
        }
      ]
    },
    {
      "cell_type": "code",
      "source": [
        "end = time()\n",
        "\n",
        "running_time = end-start\n",
        "print('Time to fit: {}s'.format(running_time))"
      ],
      "metadata": {
        "colab": {
          "base_uri": "https://localhost:8080/"
        },
        "id": "Q9mgPrzfh1DZ",
        "outputId": "5409f9f3-8526-4ccf-ed18-f24e8cc7da17"
      },
      "execution_count": 15,
      "outputs": [
        {
          "output_type": "stream",
          "name": "stdout",
          "text": [
            "Time to fit: 45.71583271026611s\n"
          ]
        }
      ]
    },
    {
      "cell_type": "markdown",
      "source": [
        "# Part II: Milestone"
      ],
      "metadata": {
        "id": "EpcxXk8WlDUA"
      }
    },
    {
      "cell_type": "markdown",
      "source": [
        "It consists of the following tasks:\n",
        "\n",
        "- Use sklearn's `explained_variance_ratio_`to determine the number of components needed for a given threshold.\n",
        "- Use the `explained_variance_ratio_` function to plot the cumulative explained variance ratio.\n",
        "\n",
        "- Use the `variance_explained` function to plot the first digit of the dataset with different thresholds.\n",
        "- Compare the running time of the logistic regression with and without PCA.\n",
        "- Compare the accuracy between the prediction with and without PCA. "
      ],
      "metadata": {
        "id": "NOVFiAJMldQE"
      }
    },
    {
      "cell_type": "code",
      "source": [
        "mnist = fetch_openml('mnist_784', data_home='data/', as_frame=False)"
      ],
      "metadata": {
        "id": "EWX1NAgBoxi_"
      },
      "execution_count": 16,
      "outputs": []
    },
    {
      "cell_type": "code",
      "source": [
        "x_train, x_test, y_train, y_test = train_test_split(\n",
        "    mnist.data, mnist.target, train_size= 0.8, test_size=0.2, random_state=0)"
      ],
      "metadata": {
        "id": "X99NRoaNqCg1"
      },
      "execution_count": 17,
      "outputs": []
    },
    {
      "cell_type": "code",
      "source": [
        "x_train = (x_train - x_train.min())/(x_train.max() - x_train.min()) \n",
        "x_test = (x_test - x_train.min())/(x_train.max() - x_train.min()) "
      ],
      "metadata": {
        "id": "fyUDWoCTqI9o"
      },
      "execution_count": 18,
      "outputs": []
    },
    {
      "cell_type": "code",
      "source": [
        "print(mnist.data.max()) \n",
        "print(mnist.data.min())"
      ],
      "metadata": {
        "colab": {
          "base_uri": "https://localhost:8080/"
        },
        "id": "2wKxyDuIqLpU",
        "outputId": "c53b9104-4b2f-494f-bfd2-e3936660b3e7"
      },
      "execution_count": 19,
      "outputs": [
        {
          "output_type": "stream",
          "name": "stdout",
          "text": [
            "255.0\n",
            "0.0\n"
          ]
        }
      ]
    },
    {
      "cell_type": "code",
      "source": [
        "print(x_train.max()) \n",
        "print(x_train.min())"
      ],
      "metadata": {
        "colab": {
          "base_uri": "https://localhost:8080/"
        },
        "id": "x9lkD_oaqaJx",
        "outputId": "30dc1b8a-196e-442c-8615-25524fb79765"
      },
      "execution_count": 20,
      "outputs": [
        {
          "output_type": "stream",
          "name": "stdout",
          "text": [
            "1.0\n",
            "0.0\n"
          ]
        }
      ]
    },
    {
      "cell_type": "code",
      "source": [
        "print(x_test.max()) \n",
        "print(x_test.min())"
      ],
      "metadata": {
        "colab": {
          "base_uri": "https://localhost:8080/"
        },
        "id": "fuDyhTAYqirE",
        "outputId": "883f0216-0cd2-408b-ba5e-c58615ee16b0"
      },
      "execution_count": 21,
      "outputs": [
        {
          "output_type": "stream",
          "name": "stdout",
          "text": [
            "255.0\n",
            "0.0\n"
          ]
        }
      ]
    },
    {
      "cell_type": "code",
      "source": [
        "start = time()\n",
        "#‘lbfgs’ solver handles multinomial loss in multiclass problems \n",
        "log_normal = LogisticRegression(solver='lbfgs').fit(x_train, y_train)\n",
        "end = time()\n",
        "\n",
        "time_log_normal = end-start\n",
        "print('Time to fit: {}s'.format(time_log_normal))"
      ],
      "metadata": {
        "colab": {
          "base_uri": "https://localhost:8080/"
        },
        "id": "GyISpw54q-Zt",
        "outputId": "899d22f7-9b5f-4215-b556-1e23f5167278"
      },
      "execution_count": 22,
      "outputs": [
        {
          "output_type": "stream",
          "name": "stdout",
          "text": [
            "Time to fit: 40.95360732078552s\n"
          ]
        }
      ]
    },
    {
      "cell_type": "code",
      "source": [
        "y_pred_train = log_normal.predict(x_train)\n",
        "y_pred_test = log_normal.predict(x_test)\n"
      ],
      "metadata": {
        "id": "e1BOItKrryXW"
      },
      "execution_count": 23,
      "outputs": []
    },
    {
      "cell_type": "code",
      "source": [
        "log_normal_score_train = accuracy_score(y_train, y_pred_train)\n",
        "log_normal_score_test = accuracy_score(y_test, y_pred_test)"
      ],
      "metadata": {
        "id": "0SE3pgFBsDvU"
      },
      "execution_count": 24,
      "outputs": []
    },
    {
      "cell_type": "code",
      "source": [
        "# Evaluation\n",
        "print('Training Set Score: {}'.format(log_normal_score_train.round(4)))\n",
        "print('Test Set Score: {}'.format(log_normal_score_test.round(4)))"
      ],
      "metadata": {
        "colab": {
          "base_uri": "https://localhost:8080/"
        },
        "id": "JAZ1jex2r_VV",
        "outputId": "c11be4c8-8907-4cad-f638-ae3a954f209b"
      },
      "execution_count": 25,
      "outputs": [
        {
          "output_type": "stream",
          "name": "stdout",
          "text": [
            "Training Set Score: 0.9369\n",
            "Test Set Score: 0.8604\n"
          ]
        }
      ]
    },
    {
      "cell_type": "code",
      "source": [
        "pca = PCA(n_components=100) \n",
        "pca.fit(x_train)"
      ],
      "metadata": {
        "colab": {
          "base_uri": "https://localhost:8080/",
          "height": 75
        },
        "id": "XbtkmHb6sOGx",
        "outputId": "cf6469e4-6d5d-47fe-f48a-2db83d80251b"
      },
      "execution_count": 26,
      "outputs": [
        {
          "output_type": "execute_result",
          "data": {
            "text/plain": [
              "PCA(n_components=100)"
            ],
            "text/html": [
              "<style>#sk-container-id-1 {color: black;background-color: white;}#sk-container-id-1 pre{padding: 0;}#sk-container-id-1 div.sk-toggleable {background-color: white;}#sk-container-id-1 label.sk-toggleable__label {cursor: pointer;display: block;width: 100%;margin-bottom: 0;padding: 0.3em;box-sizing: border-box;text-align: center;}#sk-container-id-1 label.sk-toggleable__label-arrow:before {content: \"▸\";float: left;margin-right: 0.25em;color: #696969;}#sk-container-id-1 label.sk-toggleable__label-arrow:hover:before {color: black;}#sk-container-id-1 div.sk-estimator:hover label.sk-toggleable__label-arrow:before {color: black;}#sk-container-id-1 div.sk-toggleable__content {max-height: 0;max-width: 0;overflow: hidden;text-align: left;background-color: #f0f8ff;}#sk-container-id-1 div.sk-toggleable__content pre {margin: 0.2em;color: black;border-radius: 0.25em;background-color: #f0f8ff;}#sk-container-id-1 input.sk-toggleable__control:checked~div.sk-toggleable__content {max-height: 200px;max-width: 100%;overflow: auto;}#sk-container-id-1 input.sk-toggleable__control:checked~label.sk-toggleable__label-arrow:before {content: \"▾\";}#sk-container-id-1 div.sk-estimator input.sk-toggleable__control:checked~label.sk-toggleable__label {background-color: #d4ebff;}#sk-container-id-1 div.sk-label input.sk-toggleable__control:checked~label.sk-toggleable__label {background-color: #d4ebff;}#sk-container-id-1 input.sk-hidden--visually {border: 0;clip: rect(1px 1px 1px 1px);clip: rect(1px, 1px, 1px, 1px);height: 1px;margin: -1px;overflow: hidden;padding: 0;position: absolute;width: 1px;}#sk-container-id-1 div.sk-estimator {font-family: monospace;background-color: #f0f8ff;border: 1px dotted black;border-radius: 0.25em;box-sizing: border-box;margin-bottom: 0.5em;}#sk-container-id-1 div.sk-estimator:hover {background-color: #d4ebff;}#sk-container-id-1 div.sk-parallel-item::after {content: \"\";width: 100%;border-bottom: 1px solid gray;flex-grow: 1;}#sk-container-id-1 div.sk-label:hover label.sk-toggleable__label {background-color: #d4ebff;}#sk-container-id-1 div.sk-serial::before {content: \"\";position: absolute;border-left: 1px solid gray;box-sizing: border-box;top: 0;bottom: 0;left: 50%;z-index: 0;}#sk-container-id-1 div.sk-serial {display: flex;flex-direction: column;align-items: center;background-color: white;padding-right: 0.2em;padding-left: 0.2em;position: relative;}#sk-container-id-1 div.sk-item {position: relative;z-index: 1;}#sk-container-id-1 div.sk-parallel {display: flex;align-items: stretch;justify-content: center;background-color: white;position: relative;}#sk-container-id-1 div.sk-item::before, #sk-container-id-1 div.sk-parallel-item::before {content: \"\";position: absolute;border-left: 1px solid gray;box-sizing: border-box;top: 0;bottom: 0;left: 50%;z-index: -1;}#sk-container-id-1 div.sk-parallel-item {display: flex;flex-direction: column;z-index: 1;position: relative;background-color: white;}#sk-container-id-1 div.sk-parallel-item:first-child::after {align-self: flex-end;width: 50%;}#sk-container-id-1 div.sk-parallel-item:last-child::after {align-self: flex-start;width: 50%;}#sk-container-id-1 div.sk-parallel-item:only-child::after {width: 0;}#sk-container-id-1 div.sk-dashed-wrapped {border: 1px dashed gray;margin: 0 0.4em 0.5em 0.4em;box-sizing: border-box;padding-bottom: 0.4em;background-color: white;}#sk-container-id-1 div.sk-label label {font-family: monospace;font-weight: bold;display: inline-block;line-height: 1.2em;}#sk-container-id-1 div.sk-label-container {text-align: center;}#sk-container-id-1 div.sk-container {/* jupyter's `normalize.less` sets `[hidden] { display: none; }` but bootstrap.min.css set `[hidden] { display: none !important; }` so we also need the `!important` here to be able to override the default hidden behavior on the sphinx rendered scikit-learn.org. See: https://github.com/scikit-learn/scikit-learn/issues/21755 */display: inline-block !important;position: relative;}#sk-container-id-1 div.sk-text-repr-fallback {display: none;}</style><div id=\"sk-container-id-1\" class=\"sk-top-container\"><div class=\"sk-text-repr-fallback\"><pre>PCA(n_components=100)</pre><b>In a Jupyter environment, please rerun this cell to show the HTML representation or trust the notebook. <br />On GitHub, the HTML representation is unable to render, please try loading this page with nbviewer.org.</b></div><div class=\"sk-container\" hidden><div class=\"sk-item\"><div class=\"sk-estimator sk-toggleable\"><input class=\"sk-toggleable__control sk-hidden--visually\" id=\"sk-estimator-id-1\" type=\"checkbox\" checked><label for=\"sk-estimator-id-1\" class=\"sk-toggleable__label sk-toggleable__label-arrow\">PCA</label><div class=\"sk-toggleable__content\"><pre>PCA(n_components=100)</pre></div></div></div></div></div>"
            ]
          },
          "metadata": {},
          "execution_count": 26
        }
      ]
    },
    {
      "cell_type": "markdown",
      "source": [
        "#### Determining the number of Principal Components"
      ],
      "metadata": {
        "id": "PWQN2kzqsVEc"
      }
    },
    {
      "cell_type": "markdown",
      "source": [
        "Sklearn provides a function where we can access the [percentage of variance explained](https://scikit-learn.org/stable/modules/generated/sklearn.decomposition.PCA.html) by each of the selected components. We can use this to calculate the number of components we will have for instanace for having an explained variance of 90%. "
      ],
      "metadata": {
        "id": "Ekj2xrTbtAcu"
      }
    },
    {
      "cell_type": "markdown",
      "source": [
        "-  **np.cumsum en NumPy** se utiliza para calcular la suma acumulativa de los elementos de un array. \n",
        "- **pca.explained_variance_ratio_**, que es un array que contiene las proporciones de varianza explicada por cada componente principal en PCA\n"
      ],
      "metadata": {
        "id": "ChNlw76CtmV-"
      }
    },
    {
      "cell_type": "code",
      "source": [
        "cum_sum = np.cumsum(pca.explained_variance_ratio_)"
      ],
      "metadata": {
        "id": "kAo-t4DCtGvs"
      },
      "execution_count": 27,
      "outputs": []
    },
    {
      "cell_type": "code",
      "source": [
        "# Create a bar plot\n",
        "n_components = len(pca.explained_variance_ratio_)\n",
        "components = np.arange(1, n_components + 1)\n",
        "plt.bar(components, pca.explained_variance_ratio_)\n",
        "plt.xlabel('Component')\n",
        "plt.ylabel('Explained Variance Ratio')\n",
        "plt.title('Explained Variance Ratio by Component')\n",
        "plt.show()"
      ],
      "metadata": {
        "colab": {
          "base_uri": "https://localhost:8080/",
          "height": 472
        },
        "id": "iS7oSE_luxSF",
        "outputId": "612aada8-2200-4e73-a1d1-02400bbd6e68"
      },
      "execution_count": 28,
      "outputs": [
        {
          "output_type": "display_data",
          "data": {
            "text/plain": [
              "<Figure size 640x480 with 1 Axes>"
            ],
            "image/png": "[encoded data removed]"
          },
          "metadata": {}
        }
      ]
    },
    {
      "cell_type": "code",
      "source": [
        "threshold=0.90 # set the threshold to desired amount\n",
        "r = [np.argmax(cum_sum > threshold) + 1][0] # get the number of ideal r\n",
        "PC = (cum_sum[r-1]) # get the value of the optimal PC\n",
        "print('The smallest number of PCs retaining {}% of variance is reached with {} components'.format(threshold,r))"
      ],
      "metadata": {
        "colab": {
          "base_uri": "https://localhost:8080/"
        },
        "id": "bE1-i6J_uF6L",
        "outputId": "28b2d7f2-3849-4d65-d12a-2f2c7b1a0e32"
      },
      "execution_count": 29,
      "outputs": [
        {
          "output_type": "stream",
          "name": "stdout",
          "text": [
            "The smallest number of PCs retaining 0.9% of variance is reached with 87 components\n"
          ]
        }
      ]
    },
    {
      "cell_type": "code",
      "source": [
        "def variance_explained_plot(ratio):\n",
        "    fig, ax = plt.subplots(figsize=(10, 7))\n",
        "    ax.plot(range(1, len(ratio) + 1), np.cumsum(ratio), color='r', label='Cumulative Explained Variance Ratio')\n",
        "    ax.axhline(y=0.95, color='k', linestyle='--', label='95% Explained Variance')\n",
        "    ax.axhline(y=0.90, color='c', linestyle='--', label='90% Explained Variance')\n",
        "    ax.axhline(y=0.85, color='grey', linestyle='--', label='85% Explained Variance')\n",
        "    ax.set_title('Cumulative Sum of Explained Variance Ratio PCA', fontsize=20)\n",
        "    ax.set_ylabel('Cumulative Sum of Explained Variance Ratio', fontsize=14)\n",
        "    ax.set_xlabel('Number of Components', fontsize=14)\n",
        "    plt.legend(loc=0);"
      ],
      "metadata": {
        "id": "TFwommJWR8Xu"
      },
      "execution_count": 30,
      "outputs": []
    },
    {
      "cell_type": "code",
      "source": [
        "ratio = pca.explained_variance_ratio_\n",
        "variance_explained_plot(ratio)"
      ],
      "metadata": {
        "colab": {
          "base_uri": "https://localhost:8080/",
          "height": 654
        },
        "id": "oKbcag0pSBjH",
        "outputId": "108a5ee8-c8c4-4c47-b4d3-041b99e2e8f2"
      },
      "execution_count": 31,
      "outputs": [
        {
          "output_type": "display_data",
          "data": {
            "text/plain": [
              "<Figure size 1000x700 with 1 Axes>"
            ],
            "image/png": "[encoded data removed]"
          },
          "metadata": {}
        }
      ]
    },
    {
      "cell_type": "markdown",
      "source": [],
      "metadata": {
        "id": "HdwscRWZ9wvv"
      }
    },
    {
      "cell_type": "code",
      "source": [
        "def variance_explained(percent, images): \n",
        "    # percent of variance | float from 0 to 1 \n",
        "    pca = PCA(percent) # Instance of PCA object\n",
        "    pca.fit(images)    # Adjust the PCA model to the images.\n",
        "    components = pca.transform(images)              # Transform original images to PCA \n",
        "    approx = pca.inverse_transform(components)      \n",
        "    return approx"
      ],
      "metadata": {
        "id": "l2hI-AI8UQZJ"
      },
      "execution_count": 47,
      "outputs": []
    },
    {
      "cell_type": "markdown",
      "source": [
        "Use the `variance_explained` function, which is provided for you above to plot the first digit of the MNIST training dataset and the different thresholds:\n",
        "- Orignal image (784 components)\n",
        "- 95% of explained variance\n",
        "- 90% of explained variance\n",
        "- 85% of explained variance\n",
        "\n",
        "You can use the `show_images` function from milestone 2, which can be found here: `customlib/plotting.py` as an example how to plot images."
      ],
      "metadata": {
        "id": "v-3U6L6YUoqM"
      }
    },
    {
      "cell_type": "code",
      "source": [
        "plt.rcParams['axes.grid'] = False # don't use grid for image plots"
      ],
      "metadata": {
        "id": "_LFhLr_bU7MI"
      },
      "execution_count": 33,
      "outputs": []
    },
    {
      "cell_type": "code",
      "source": [
        "def explained_variance_plot(x_train):\n",
        "    \n",
        "    ranges = [2, 3, 4] # ranges for subplots\n",
        "    percentages = [0.95, 0.90, 0.85] # diffrent percentages\n",
        "    components_ = [154, 87, 59] # number of different components\n",
        "    \n",
        "    \n",
        "    # plot first original image, with no PCA used\n",
        "    plt.subplot(1, 4, 1);\n",
        "    plt.imshow(x_train[0].reshape(28,28),\n",
        "                  cmap = plt.cm.binary_r);\n",
        "    plt.xlabel('784 Components', fontsize = 8)\n",
        "    plt.title('Original Image', fontsize = 8);\n",
        "    \n",
        "    "
      ],
      "metadata": {
        "id": "Z_nOtveuU7wd"
      },
      "execution_count": 43,
      "outputs": []
    },
    {
      "cell_type": "code",
      "source": [
        "explained_variance_plot(x_train)"
      ],
      "metadata": {
        "colab": {
          "base_uri": "https://localhost:8080/",
          "height": 200
        },
        "id": "67NzOpg0VCUF",
        "outputId": "ace5b0e6-f290-4c0d-b958-d440f7f54d39"
      },
      "execution_count": 44,
      "outputs": [
        {
          "output_type": "display_data",
          "data": {
            "text/plain": [
              "<Figure size 640x480 with 1 Axes>"
            ],
            "image/png": "[encoded data removed]"
          },
          "metadata": {}
        }
      ]
    },
    {
      "cell_type": "code",
      "source": [
        "def explained_variance_plot(x_train):\n",
        "    \n",
        "    ranges = [2, 3, 4] # ranges for subplots\n",
        "    percentages = [0.95, 0.90, 0.85] # diffrent percentages\n",
        "    components_ = [154, 87, 59] # number of different components\n",
        "    \n",
        "    \n",
        "    # plot first original image, with no PCA used\n",
        "    plt.subplot(1, 4, 1); #row #columns # position of the plot that I am creating.\n",
        "    plt.imshow(x_train[0].reshape(28,28),\n",
        "                  cmap = plt.cm.viridis); # paleta de colores: cmap = plt.cm.binary_r\n",
        "    plt.xlabel('784 Components', fontsize = 8)\n",
        "    plt.title('Original Image', fontsize = 8);\n",
        "\n",
        "\n",
        "# loop over the subplots\n",
        "    for range_, percent, components in zip(ranges, percentages, components_):\n",
        "        plt.subplot(1, 4, range_);\n",
        "        plt.imshow(variance_explained(percent, x_train)[0].reshape(28, 28),\n",
        "              cmap = plt.cm.viridis);\n",
        "        plt.xlabel('{} Components'.format(components), fontsize = 8)\n",
        "        plt.title('{}% of Explained Variance'.format(percent), fontsize = 8);"
      ],
      "metadata": {
        "id": "FkJEHi6372wL"
      },
      "execution_count": 45,
      "outputs": []
    },
    {
      "cell_type": "code",
      "source": [
        "explained_variance_plot(x_train)"
      ],
      "metadata": {
        "colab": {
          "base_uri": "https://localhost:8080/",
          "height": 200
        },
        "id": "nvcq2Zv79Z0O",
        "outputId": "87aa510e-f8a6-40b5-b825-2a11d51a932e"
      },
      "execution_count": 48,
      "outputs": [
        {
          "output_type": "display_data",
          "data": {
            "text/plain": [
              "<Figure size 640x480 with 4 Axes>"
            ],
            "image/png": "[encoded data removed]"
          },
          "metadata": {}
        }
      ]
    },
    {
      "cell_type": "markdown",
      "source": [],
      "metadata": {
        "id": "89_DoHJFBzRg"
      }
    },
    {
      "cell_type": "markdown",
      "source": [
        "## Compare the running time of the logistic regression with and without PCA."
      ],
      "metadata": {
        "id": "xqx_yEBDB_9t"
      }
    },
    {
      "cell_type": "code",
      "source": [
        "start = time()\n",
        "pca = PCA(0.9).fit(x_train)\n",
        "\n",
        "x_train_pca = pca.transform(x_train)\n",
        "x_test_pca = pca.transform(x_test)\n",
        "\n",
        "end = time()\n",
        "time_pca = end-start\n",
        "\n",
        "#print(x_train_pca.shape, x_test_pca.shape)\n",
        "print(time_pca)"
      ],
      "metadata": {
        "colab": {
          "base_uri": "https://localhost:8080/"
        },
        "id": "N7IGfZ1g_ASD",
        "outputId": "8e370827-9a29-45f6-d8c8-2c891371acdb"
      },
      "execution_count": 50,
      "outputs": [
        {
          "output_type": "stream",
          "name": "stdout",
          "text": [
            "12.106742858886719\n"
          ]
        }
      ]
    },
    {
      "cell_type": "code",
      "source": [
        "def time_plot(start, end, x_train_pca):\n",
        "    fig, ax = plt.subplots(figsize=(6, 5))\n",
        "    ax.bar(0, time_log_normal, width=0.5)\n",
        "    ax.bar(1, end-start, width=0.5)\n",
        "    ax.set_xlabel('Model')\n",
        "    ax.set_xticks([0,1])\n",
        "    ax.set_xticklabels(['Full Dataset', '{} PCs'.format(x_train_pca.shape[1])])\n",
        "    ax.set_ylabel('Time in s')\n",
        "    ax.set_title('Time (s) taken to fit the two models');"
      ],
      "metadata": {
        "id": "gsWbvs0qJ3Fv"
      },
      "execution_count": 51,
      "outputs": []
    },
    {
      "cell_type": "code",
      "source": [
        "time_plot(start, end, x_train_pca)"
      ],
      "metadata": {
        "colab": {
          "base_uri": "https://localhost:8080/",
          "height": 487
        },
        "id": "z6vqytVJKEBy",
        "outputId": "f7aab6df-a90c-4ba3-f7fc-8fca8c6a1af2"
      },
      "execution_count": 52,
      "outputs": [
        {
          "output_type": "display_data",
          "data": {
            "text/plain": [
              "<Figure size 600x500 with 1 Axes>"
            ],
            "image/png": "[encoded data removed]"
          },
          "metadata": {}
        }
      ]
    },
    {
      "cell_type": "code",
      "source": [
        "start = time()\n",
        "log_pca = LogisticRegression(solver='lbfgs').fit(x_train_pca, y_train)\n",
        "end = time()\n",
        "\n",
        "log_pca_time = (end-start) + time_pca\n",
        "\n",
        "print('Time to fit logistic regression with ({} PCs): {}s'.format(x_train_pca.shape[1],end-start))\n",
        "print('Time to fit logistic regression on the full dataset: {}s'.format(time_log_normal))\n",
        "print('Hence, to fit the logistic regression with the reduced dataset is about', np.round(time_log_normal/(end-start),1), 'times faster than without using PCA')\n",
        "print('Time for PCA: ', time_pca)\n",
        "print('Combined time for PCA and logistic regression: {}s'.format(log_pca_time))\n",
        "print('Which results in a total speed-up of {}.'.format(np.round(time_log_normal/(log_pca_time),1)))\n",
        "\n",
        "\n",
        "time_plot(start, end, x_train_pca)"
      ],
      "metadata": {
        "colab": {
          "base_uri": "https://localhost:8080/",
          "height": 591
        },
        "id": "PVdzZ0YtK-y2",
        "outputId": "306631bb-1006-45c8-9b5e-ff367d2c9883"
      },
      "execution_count": 53,
      "outputs": [
        {
          "output_type": "stream",
          "name": "stdout",
          "text": [
            "Time to fit logistic regression with (87 PCs): 12.987235069274902s\n",
            "Time to fit logistic regression on the full dataset: 40.95360732078552s\n",
            "Hence, to fit the logistic regression with the reduced dataset is about 3.2 times faster than without using PCA\n",
            "Time for PCA:  12.106742858886719\n",
            "Combined time for PCA and logistic regression: 25.09397792816162s\n",
            "Which results in a total speed-up of 1.6.\n"
          ]
        },
        {
          "output_type": "display_data",
          "data": {
            "text/plain": [
              "<Figure size 600x500 with 1 Axes>"
            ],
            "image/png": "[encoded data removed]"
          },
          "metadata": {}
        }
      ]
    },
    {
      "cell_type": "markdown",
      "source": [
        "## Compare the accuracy between prediction with/without PCA "
      ],
      "metadata": {
        "id": "f_IlCX72LbIj"
      }
    },
    {
      "cell_type": "code",
      "source": [
        "y_preds_train_pca = log_pca.predict(x_train_pca)\n",
        "y_preds_test_pca = log_pca.predict(x_test_pca)\n",
        "\n",
        "model_score_train_pca = accuracy_score(y_train, y_preds_train_pca)\n",
        "model_score_test_pca = accuracy_score(y_test, y_preds_test_pca)\n",
        "\n",
        "# Evaluaiton\n",
        "print('Training Set Score: {}'.format(model_score_train_pca.round(4)))\n",
        "print('Test Set Score: {}'.format(model_score_test_pca.round(4)))\n",
        "\n",
        "print('Training Set Score of the full dataset: {}'.format(log_normal_score_train.round(4)))\n",
        "print('Test Set Score of the full dataset: {}'.format(log_normal_score_test.round(4)))"
      ],
      "metadata": {
        "colab": {
          "base_uri": "https://localhost:8080/"
        },
        "id": "VCfHJ-mULaCq",
        "outputId": "9468f2cd-a2d9-4f2f-de1a-4b1fa454fc22"
      },
      "execution_count": 54,
      "outputs": [
        {
          "output_type": "stream",
          "name": "stdout",
          "text": [
            "Training Set Score: 0.9225\n",
            "Test Set Score: 0.8503\n",
            "Training Set Score of the full dataset: 0.9369\n",
            "Test Set Score of the full dataset: 0.8604\n"
          ]
        }
      ]
    }
  ]
}